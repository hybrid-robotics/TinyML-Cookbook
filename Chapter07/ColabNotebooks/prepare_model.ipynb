{
  "nbformat": 4,
  "nbformat_minor": 0,
  "metadata": {
    "accelerator": "GPU",
    "colab": {
      "name": "chapter07.ipynb",
      "provenance": [],
      "collapsed_sections": []
    },
    "kernelspec": {
      "display_name": "Python 3",
      "name": "python3"
    },
    "language_info": {
      "name": "python"
    }
  },
  "cells": [
    {
      "cell_type": "markdown",
      "source": [
        "# Chapter 7 - Running a Tiny CIFAR-10 Model on a Virtual Platform with the Zephyr OS"
      ],
      "metadata": {
        "id": "8m3Rzi1i5Nn_"
      }
    },
    {
      "cell_type": "code",
      "source": [
        "%tensorflow_version 2.x"
      ],
      "metadata": {
        "id": "0538tk5G5wS-"
      },
      "execution_count": null,
      "outputs": []
    },
    {
      "cell_type": "markdown",
      "source": [
        "### Python libraries"
      ],
      "metadata": {
        "id": "HFH6sggj5gil"
      }
    },
    {
      "cell_type": "code",
      "source": [
        "import matplotlib.pyplot as plt\n",
        "import numpy as np\n",
        "import pandas as pd\n",
        "import tensorflow as tf\n",
        "from keras.models import Model\n",
        "from tensorflow.keras import datasets, layers, models"
      ],
      "metadata": {
        "id": "Eo9ladr5SZn7"
      },
      "execution_count": null,
      "outputs": []
    },
    {
      "cell_type": "markdown",
      "source": [
        "### Constants"
      ],
      "metadata": {
        "id": "JYE4IBmu5n4f"
      }
    },
    {
      "cell_type": "code",
      "metadata": {
        "id": "A_k_Cy76vT5x"
      },
      "source": [
        "TF_MODEL=\"cifar10\"\n",
        "TFL_MODEL_FILE=\"cifar10.tflite\""
      ],
      "execution_count": null,
      "outputs": []
    },
    {
      "cell_type": "markdown",
      "source": [
        "## Designing and training a tiny CIFAR-10 model"
      ],
      "metadata": {
        "id": "JyHTQZpU52sx"
      }
    },
    {
      "cell_type": "markdown",
      "source": [
        "### Download the CIFAR-10 dataset"
      ],
      "metadata": {
        "id": "7_Nxb9sK58Yv"
      }
    },
    {
      "cell_type": "code",
      "source": [
        "(train_imgs, train_lbls), (test_imgs, test_lbls) = datasets.cifar10.load_data()"
      ],
      "metadata": {
        "id": "Lq_52sZSSbAM"
      },
      "execution_count": null,
      "outputs": []
    },
    {
      "cell_type": "markdown",
      "source": [
        "### Normalize the pixel values between 0 and 1"
      ],
      "metadata": {
        "id": "fVd39YoE6FFP"
      }
    },
    {
      "cell_type": "code",
      "source": [
        "train_imgs = train_imgs / 255.0\n",
        "test_imgs = test_imgs / 255.0"
      ],
      "metadata": {
        "id": "R7GLj26eScvA"
      },
      "execution_count": null,
      "outputs": []
    },
    {
      "cell_type": "markdown",
      "source": [
        "### Define a Python function to implement DWSC"
      ],
      "metadata": {
        "id": "1N29h2c26JnG"
      }
    },
    {
      "cell_type": "code",
      "source": [
        "def separable_conv(input, ch, idx):\n",
        "    x = layers.DepthwiseConv2D((3,3), padding=\"same\", name='dwc0_dwsc'+str(idx))(input)\n",
        "    x = layers.BatchNormalization( name='bn0_dwsc'+str(idx))(x)\n",
        "    x = layers.Activation(\"relu\", name='act0_dwsc'+str(idx))(x)\n",
        "    x = layers.Conv2D(ch, (1,1), padding=\"same\", name='conv0_dwsc'+str(idx))(x)\n",
        "    x = layers.BatchNormalization(name='bn1_dwsc'+str(idx))(x)\n",
        "    return layers.Activation(\"relu\", name='act1_dwsc'+str(idx))(x)"
      ],
      "metadata": {
        "id": "t7ZrLwf3U27n"
      },
      "execution_count": null,
      "outputs": []
    },
    {
      "cell_type": "markdown",
      "source": [
        "### Design the convolution base"
      ],
      "metadata": {
        "id": "EOcNHfBp6Tji"
      }
    },
    {
      "cell_type": "code",
      "source": [
        "input = layers.Input((32,32,3))\n",
        "x = layers.Conv2D(16, (3, 3), padding='same', name='conv1')(input)\n",
        "x = layers.BatchNormalization(name='bn1')(x)\n",
        "x = layers.Activation(\"relu\", name='act1')(x)\n",
        "x = separable_conv(x, 24, 2)\n",
        "x = layers.MaxPooling2D((2, 2), name='pool1')(x)\n",
        "x = separable_conv(x, 48, 3)\n",
        "x = layers.MaxPooling2D((2, 2), name='pool2')(x)\n",
        "x = separable_conv(x, 96, 4)\n",
        "x = separable_conv(x, 192, 5)\n",
        "x = layers.MaxPooling2D((2, 2), name='pool3')(x)"
      ],
      "metadata": {
        "id": "4inTH8mBWhON"
      },
      "execution_count": null,
      "outputs": []
    },
    {
      "cell_type": "markdown",
      "source": [
        "### Design the classification head"
      ],
      "metadata": {
        "id": "29ypqd7F6aF3"
      }
    },
    {
      "cell_type": "code",
      "source": [
        "x = layers.Flatten()(x)\n",
        "x = layers.Dropout(0.2)(x)\n",
        "x = layers.Dense(10)(x)"
      ],
      "metadata": {
        "id": "NXAVxY_C6gaB"
      },
      "execution_count": null,
      "outputs": []
    },
    {
      "cell_type": "markdown",
      "source": [
        "### Generate the model and print its summary"
      ],
      "metadata": {
        "id": "JyFyZoKg6hCA"
      }
    },
    {
      "cell_type": "code",
      "source": [
        "model = Model(input, x)\n",
        "model.summary()"
      ],
      "metadata": {
        "id": "k2xF5JV06oOK"
      },
      "execution_count": null,
      "outputs": []
    },
    {
      "cell_type": "markdown",
      "source": [
        "### (Optional) Evaluate the tensor size for the intermediate tensors"
      ],
      "metadata": {
        "id": "b44h7-vK6scm"
      }
    },
    {
      "cell_type": "code",
      "source": [
        "fig = plt.figure(dpi=100)\n",
        "\n",
        "ax = fig.add_axes([0,0,1,1])\n",
        "\n",
        "l_idx   = []\n",
        "l_sizes = []\n",
        "\n",
        "for layer in model.layers[1:]:\n",
        "  shape = layer.output_shape\n",
        "  shape = np.delete(shape, 0)\n",
        "  size  = np.prod(shape)\n",
        "  l_idx   = np.append(l_idx, layer.name)\n",
        "  l_sizes = np.append(l_sizes, size)\n",
        "\n",
        "ax.bar(l_idx, l_sizes)\n",
        "plt.xticks(rotation='vertical')\n",
        "plt.show()"
      ],
      "metadata": {
        "id": "a3houi5ytOwI"
      },
      "execution_count": null,
      "outputs": []
    },
    {
      "cell_type": "markdown",
      "source": [
        "### Compile and train the model with 10 epochs"
      ],
      "metadata": {
        "id": "tcDG3NpF7N6l"
      }
    },
    {
      "cell_type": "code",
      "source": [
        "model.compile(optimizer='adam',\n",
        "              loss=tf.keras.losses.SparseCategoricalCrossentropy(from_logits=True),\n",
        "              metrics=['accuracy'])\n",
        "\n",
        "history = model.fit(train_imgs, train_lbls, epochs=10, \n",
        "                    validation_data=(test_imgs, test_lbls))"
      ],
      "metadata": {
        "id": "vI1Lwnx3W2zH"
      },
      "execution_count": null,
      "outputs": []
    },
    {
      "cell_type": "markdown",
      "source": [
        "### Save the TensorFlow model as SavedModel"
      ],
      "metadata": {
        "id": "VDdJojDC7TAd"
      }
    },
    {
      "cell_type": "code",
      "metadata": {
        "id": "9K764BFQvQMd"
      },
      "source": [
        "model.save(TF_MODEL)"
      ],
      "execution_count": null,
      "outputs": []
    },
    {
      "cell_type": "markdown",
      "source": [
        "## Evaluating the accuracy of the TFLite model"
      ],
      "metadata": {
        "id": "RJ6heILv7YJm"
      }
    },
    {
      "cell_type": "markdown",
      "source": [
        "### Select a few hundred of samples from the train dataset to calibrate the quantization"
      ],
      "metadata": {
        "id": "jXbLjJivYnn4"
      }
    },
    {
      "cell_type": "code",
      "metadata": {
        "id": "LSAZguvzlXAC"
      },
      "source": [
        "cifar_ds = tf.data.Dataset.from_tensor_slices(train_imgs).batch(1)\n",
        "def representative_data_gen():\n",
        "  for i_value in cifar_ds.take(100):\n",
        "    i_value_f32 = tf.dtypes.cast(i_value, tf.float32)\n",
        "    yield [i_value_f32]"
      ],
      "execution_count": null,
      "outputs": []
    },
    {
      "cell_type": "markdown",
      "source": [
        "### Initialize the TFLite converter to perform the 8-bit quantization"
      ],
      "metadata": {
        "id": "a_qNdaNrYzB2"
      }
    },
    {
      "cell_type": "code",
      "metadata": {
        "id": "90KpsBtfvafA"
      },
      "source": [
        "tfl_conv = tf.lite.TFLiteConverter.from_saved_model(TF_MODEL)\n",
        "tfl_conv.representative_dataset = tf.lite.RepresentativeDataset(representative_data_gen)\n",
        "tfl_conv.optimizations = [tf.lite.Optimize.DEFAULT]\n",
        "tfl_conv.target_spec.supported_ops = [tf.lite.OpsSet.TFLITE_BUILTINS_INT8]\n",
        "tfl_conv.inference_input_type = tf.int8\n",
        "tfl_conv.inference_output_type = tf.int8"
      ],
      "execution_count": null,
      "outputs": []
    },
    {
      "cell_type": "markdown",
      "source": [
        "### Convert the model to TFLite file format and save it as .tflite"
      ],
      "metadata": {
        "id": "Zu50iI6dZU0B"
      }
    },
    {
      "cell_type": "code",
      "metadata": {
        "id": "XAIMeFoOvhel"
      },
      "source": [
        "tfl_model = tfl_conv.convert()\n",
        "open(TFL_MODEL_FILE, \"wb\").write(tfl_model)"
      ],
      "execution_count": null,
      "outputs": []
    },
    {
      "cell_type": "markdown",
      "source": [
        "### Evaluate the model size"
      ],
      "metadata": {
        "id": "YLfCt7EnZnCW"
      }
    },
    {
      "cell_type": "code",
      "source": [
        "print(len(tfl_model))"
      ],
      "metadata": {
        "id": "URcHnwt9rXLj"
      },
      "execution_count": null,
      "outputs": []
    },
    {
      "cell_type": "markdown",
      "source": [
        "### Evaluate the accuracy of the quantized model using the test dataset"
      ],
      "metadata": {
        "id": "GWp3T8weZr9y"
      }
    },
    {
      "cell_type": "code",
      "metadata": {
        "id": "vtEkxuDXwmVx"
      },
      "source": [
        "# Initialize the TFLite interpreter\n",
        "tfl_inter = tf.lite.Interpreter(model_content=tfl_model)\n",
        "\n",
        "# Allocate the tensors\n",
        "tfl_inter.allocate_tensors()\n",
        "\n",
        "# Get input/output layer information\n",
        "i_details = tfl_inter.get_input_details()[0]\n",
        "o_details = tfl_inter.get_output_details()[0]\n",
        "\n",
        "i_quant = i_details[\"quantization_parameters\"]\n",
        "o_quant = o_details[\"quantization_parameters\"]\n",
        "i_scale      = i_quant['scales'][0]\n",
        "i_zero_point = i_quant['zero_points'][0]\n",
        "o_scale      = o_quant['scales'][0]\n",
        "o_zero_point = o_quant['zero_points'][0]\n",
        "\n",
        "def classify(i_data, o_value):\n",
        "  input_data = i_value.reshape((1, 32, 32, 3))\n",
        "  i_value_f32 = tf.dtypes.cast(input_data, tf.float32)\n",
        "  \n",
        "  # Quantize (float -> 8-bit) the input (check if input layer is 8-bit, first)\n",
        "  i_value_f32 = i_value_f32 / i_scale + i_zero_point\n",
        "  i_value_s8 = tf.cast(i_value_f32, dtype=tf.int8)\n",
        "\n",
        "  tfl_inter.set_tensor(i_details[\"index\"], i_value_s8)\n",
        "  tfl_inter.invoke()\n",
        "  o_pred = tfl_inter.get_tensor(o_details[\"index\"])[0]\n",
        "\n",
        "  return (o_pred - o_zero_point) * o_scale\n",
        "\n",
        "num_correct_samples = 0\n",
        "num_total_samples   = len(list(test_imgs))\n",
        "\n",
        "for i_value, o_value in zip(test_imgs, test_lbls):\n",
        "  o_pred_f32 = classify(i_value, o_value)\n",
        "  if np.argmax(o_pred_f32) == o_value:\n",
        "    num_correct_samples += 1"
      ],
      "execution_count": null,
      "outputs": []
    },
    {
      "cell_type": "markdown",
      "source": [
        "### Print the accuracy of the quantized TFLite model"
      ],
      "metadata": {
        "id": "gp3jzDk2Z4jK"
      }
    },
    {
      "cell_type": "code",
      "source": [
        "print(\"Accuracy:\", num_correct_samples/num_total_samples)"
      ],
      "metadata": {
        "id": "Il7-UAMAZ44C"
      },
      "execution_count": null,
      "outputs": []
    },
    {
      "cell_type": "markdown",
      "source": [
        "### Convert the TFLite model to C-byte array with xxd"
      ],
      "metadata": {
        "id": "ZHi7PWg-Q9GP"
      }
    },
    {
      "cell_type": "code",
      "source": [
        "!apt-get update && apt-get -qq install xxd\n",
        "!xxd -i cifar10.tflite > model.h"
      ],
      "metadata": {
        "id": "9NODqR0NIjkZ"
      },
      "execution_count": null,
      "outputs": []
    },
    {
      "cell_type": "markdown",
      "source": [
        "## Converting a NumPy image to a C-byte array"
      ],
      "metadata": {
        "id": "1kwlgTlBhyoR"
      }
    },
    {
      "cell_type": "markdown",
      "source": [
        "### Write a function to convert a 1D NumPy array of np.int8 values into a single string of integer values comma-separated"
      ],
      "metadata": {
        "id": "js9A3b1Zh-Be"
      }
    },
    {
      "cell_type": "code",
      "source": [
        "def array_to_str(data):\n",
        "    NUM_COLS = 12\n",
        "    val_string = ''\n",
        "    for i, val in enumerate(data):\n",
        "        val_string += str(val)\n",
        "\n",
        "        if (i + 1) < len(data):\n",
        "            val_string += ','\n",
        "        if (i + 1) % NUM_COLS == 0:\n",
        "            val_string += '\\n'\n",
        "    return val_string"
      ],
      "metadata": {
        "id": "kLdIRDAe8TMy"
      },
      "execution_count": null,
      "outputs": []
    },
    {
      "cell_type": "markdown",
      "source": [
        "### Write a function to generate a C header file containing the input image stored in an int8_t array"
      ],
      "metadata": {
        "id": "w80MZdtpiFy9"
      }
    },
    {
      "cell_type": "code",
      "source": [
        "def gen_h_file(size, data, ilabel):\n",
        "  str_out = f'int8_t g_test[] = '\n",
        "  str_out += \"\\n{\\n\"\n",
        "  str_out += f'{data}'\n",
        "  str_out += '};\\n'\n",
        "  str_out += f\"const int g_test_len = {size};\\n\"\n",
        "  str_out += f\"const int g_test_ilabel = {ilabel};\\n\"\n",
        "  return str_out"
      ],
      "metadata": {
        "id": "fpD54bb65whM"
      },
      "execution_count": null,
      "outputs": []
    },
    {
      "cell_type": "markdown",
      "source": [
        "### Create a Pandas data frame from the CIFAR-10 test dataset"
      ],
      "metadata": {
        "id": "KukSNltjjpQF"
      }
    },
    {
      "cell_type": "code",
      "source": [
        "imgs = list(zip(test_imgs, test_lbls))\n",
        "cols = ['Image', 'Label']\n",
        "df = pd.DataFrame(imgs, columns = cols) "
      ],
      "metadata": {
        "id": "CPMPJ90VjzEE"
      },
      "execution_count": null,
      "outputs": []
    },
    {
      "cell_type": "markdown",
      "source": [
        "### Get only ship images from the Pandas data frame"
      ],
      "metadata": {
        "id": "rHr5BwAgj1YT"
      }
    },
    {
      "cell_type": "code",
      "source": [
        "cond = df['Label'] == 8\n",
        "ship_samples = df[cond]"
      ],
      "metadata": {
        "id": "cbZi4z5JkH5_"
      },
      "execution_count": null,
      "outputs": []
    },
    {
      "cell_type": "markdown",
      "source": [
        "### Iterate over the ship images and run the inference. Convert the image that returns \"ship\" to C-byte array"
      ],
      "metadata": {
        "id": "y9Vi9nVRj9vx"
      }
    },
    {
      "cell_type": "code",
      "source": [
        "c_code = \"\"\n",
        "\n",
        "for index, row in ship_samples.iterrows():\n",
        "  i_value = np.asarray(row['Image'].tolist())\n",
        "  o_value = np.asarray(row['Label'].tolist())\n",
        "  o_pred_f32 = classify(i_value, o_value)\n",
        "  if np.argmax(o_pred_f32) == o_value:\n",
        "    i_value_f32 = i_value / i_scale + i_zero_point\n",
        "    i_value_s8  = i_value_f32.astype(dtype=np.uint8)\n",
        "    i_value_s8  = i_value_s8.ravel()\n",
        "\n",
        "    # Generate a string from NumPy array\n",
        "    val_string = array_to_str(i_value_s8)\n",
        "\n",
        "    c_code = gen_h_file(i_value_s8.size, val_string, \"8\")\n",
        "    break"
      ],
      "metadata": {
        "id": "cgswci5Uyb3_"
      },
      "execution_count": null,
      "outputs": []
    },
    {
      "cell_type": "markdown",
      "source": [
        "### Save the generated image in the input.h file"
      ],
      "metadata": {
        "id": "oP_rTTuJlFB5"
      }
    },
    {
      "cell_type": "code",
      "source": [
        "with open(\"input.h\", 'w') as file:\n",
        "  file.write(c_code)"
      ],
      "metadata": {
        "id": "M2PUCsSDlJn-"
      },
      "execution_count": null,
      "outputs": []
    }
  ]
}
