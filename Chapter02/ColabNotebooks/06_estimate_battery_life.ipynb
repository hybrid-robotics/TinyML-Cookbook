{
  "nbformat": 4,
  "nbformat_minor": 0,
  "metadata": {
    "colab": {
      "name": "chapter02.ipynb",
      "provenance": [],
      "collapsed_sections": []
    },
    "kernelspec": {
      "name": "python3",
      "display_name": "Python 3"
    },
    "language_info": {
      "name": "python"
    }
  },
  "cells": [
    {
      "cell_type": "markdown",
      "metadata": {
        "id": "Te9R0Z5jypdL"
      },
      "source": [
        "# Chapter 2 - Prototyping with Microcontrollers"
      ]
    },
    {
      "cell_type": "markdown",
      "metadata": {
        "id": "cjFyNOTs8liw"
      },
      "source": [
        "## Powering microcontrollers with batteries"
      ]
    },
    {
      "cell_type": "markdown",
      "metadata": {
        "id": "MvWxOLJjdR_q"
      },
      "source": [
        "### Estimating battery life\n",
        "This Python code estimates how long the battery could last based on:\n",
        "* Nominal battery capacity [mAh]\n",
        "* Average current that a load is drawing from it [mA]\n",
        "\n"
      ]
    },
    {
      "cell_type": "code",
      "metadata": {
        "colab": {
          "base_uri": "https://localhost:8080/"
        },
        "id": "lCvZZrqhdXfT",
        "outputId": "5cc1c845-e71c-47be-b6f1-5b50ac21a7de"
      },
      "source": [
        "#@markdown ##### Battery capacity [mAh]:\n",
        "battery_cap_mah = 2400 #@param {type:\"number\"}\n",
        "#@markdown ##### Current load [mA]:\n",
        "#@title Load current in mA\n",
        "i_load_ma = 1.5 #@param {type:\"number\"}\n",
        "\n",
        "# Calculate battery life in hours\n",
        "battery_life_hours = battery_cap_mah / i_load_ma\n",
        "\n",
        "# Convert battery life in days\n",
        "battery_life_days = battery_life_hours / 24\n",
        "\n",
        "print(\"Battery life:\", battery_life_hours,\"hours,\", battery_life_days, \"days\")"
      ],
      "execution_count": null,
      "outputs": [
        {
          "output_type": "stream",
          "text": [
            "Battery life: 1600.0 hours, 66.66666666666667 days\n"
          ],
          "name": "stdout"
        }
      ]
    },
    {
      "cell_type": "markdown",
      "metadata": {
        "id": "Pd62RCPxbrHD"
      },
      "source": [
        "### Estimating battery capacity"
      ]
    },
    {
      "cell_type": "code",
      "metadata": {
        "colab": {
          "base_uri": "https://localhost:8080/"
        },
        "id": "P35P4KWdbvMa",
        "outputId": "c2222631-0e96-4c87-df11-db5961d95a17"
      },
      "source": [
        "#@markdown ##### Battery life [days]:\n",
        "battery_life_day = 30 #@param {type:\"number\"}\n",
        "#@markdown ##### Current load [mA]:\n",
        "#@title Load current in mA\n",
        "i_load_ma = 3.3 #@param {type:\"number\"}\n",
        "\n",
        "# Convert the battery life in hours\n",
        "battery_life_hours = battery_life_day * 24\n",
        "\n",
        "# Calculate the minimum battery capacity\n",
        "battery_cap_mah = i_load_ma * battery_life_hours\n",
        "\n",
        "print(\"Minimum battery capacity: \", battery_cap_mah, \"mAh\")"
      ],
      "execution_count": null,
      "outputs": [
        {
          "output_type": "stream",
          "text": [
            "Minimum battery capacity:  2376.0 mAh\n"
          ],
          "name": "stdout"
        }
      ]
    }
  ]
}